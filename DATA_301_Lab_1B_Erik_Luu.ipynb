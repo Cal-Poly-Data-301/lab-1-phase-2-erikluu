{
  "cells": [
    {
      "cell_type": "markdown",
      "metadata": {
        "id": "view-in-github",
        "colab_type": "text"
      },
      "source": [
        "<a href=\"https://colab.research.google.com/github/erikluu/lab-1-phase-2-erikluu/blob/main/DATA_301_Lab_1B_Erik_Luu.ipynb\" target=\"_parent\"><img src=\"https://colab.research.google.com/assets/colab-badge.svg\" alt=\"Open In Colab\"/></a>"
      ]
    },
    {
      "cell_type": "markdown",
      "metadata": {
        "id": "uQm3Aekkc8kE"
      },
      "source": [
        "# Explore the In Class Survey\n",
        "\n",
        "During the first class, you filled out the [first-day survey](https://docs.google.com/forms/d/e/1FAIpQLSczqKwzkye0RP8byLMxzj1Br3kC_YUdVGLWmMXX6VND99ivWg/viewform). In this lab, you will explore [the responses](https://docs.google.com/spreadsheets/d/1K9rfAscLESbwvovOc1aD3K6PFgdqkVRbaFHeD-UMTSc/edit?usp=sharing).\n",
        "\n",
        "Download the spreadsheet from the link above, then read the data into a `pandas` `DataFrame` whose columns are the survey questions. Each row represents one student's response to the questions."
      ]
    },
    {
      "cell_type": "markdown",
      "metadata": {
        "id": "k54rkU7Ec8kO"
      },
      "source": [
        "## Question 1\n",
        "\n",
        "Make a graphic that visualizes the favorite colors of students in DATA 301. Explain what you see.\n",
        "\n",
        "(_Hint:_ You might have to clean the data a bit first.)"
      ]
    },
    {
      "cell_type": "code",
      "execution_count": null,
      "metadata": {
        "colab": {
          "base_uri": "https://localhost:8080/",
          "height": 323
        },
        "id": "Ym53WixOc8kL",
        "outputId": "035c17ee-95d6-4d08-f6e5-72be6851f247"
      },
      "outputs": [
        {
          "output_type": "stream",
          "name": "stdout",
          "text": [
            "Drive already mounted at /content/drive; to attempt to forcibly remount, call drive.mount(\"/content/drive\", force_remount=True).\n"
          ]
        },
        {
          "output_type": "execute_result",
          "data": {
            "text/plain": [
              "<matplotlib.axes._subplots.AxesSubplot at 0x7ff234457f50>"
            ]
          },
          "metadata": {},
          "execution_count": 3
        },
        {
          "output_type": "display_data",
          "data": {
            "image/png": "[encoded data removed]",
            "text/plain": [
              "<Figure size 432x288 with 1 Axes>"
            ]
          },
          "metadata": {
            "needs_background": "light"
          }
        }
      ],
      "source": [
        "# TYPE YOUR CODE HERE.\n",
        "import pandas as pd\n",
        "from google.colab import drive\n",
        "drive.mount('/content/drive')\n",
        "\n",
        "def clean_data(c):\n",
        "  if c.__contains__(\"blue\") | c.__contains__(\"Blue\") | c.__contains__(\"Navy\"):\n",
        "    return \"Blue\"\n",
        "  if c.__contains__(\"green\") | c.__contains__(\"Green\") | c.__contains__(\"turquoise\") | c.__contains__(\"Teal\"):\n",
        "    return \"Green\"\n",
        "  if c.__contains__(\"Pink\") | c.__contains__(\"pink\"):\n",
        "    return \"Pink\"\n",
        "  if c.__contains__(\"Purple\") | c.__contains__(\"purple\") | c.__contains__(\"Magenta\"):\n",
        "    return \"Purple\"\n",
        "  if c.__contains__(\"Black\") | c.__contains__(\"black\"):\n",
        "    return \"Black\"\n",
        "  if c.__contains__(\"Red\") | c.__contains__(\"red\"):\n",
        "    return \"Red\"\n",
        "  if c.__contains__(\"Gray\") | c.__contains__(\"grey\"):\n",
        "    return \"Grey\"\n",
        "  \n",
        "  return c\n",
        "\n",
        "df_301 = pd.read_csv(\"/content/drive/My Drive/Colab Notebooks/lab1BResponses.csv\")\n",
        "df_colors = df_301[\"What is your favorite color?\"].map(clean_data)\n",
        "df_colors.value_counts().plot.bar()"
      ]
    },
    {
      "cell_type": "markdown",
      "metadata": {
        "id": "fCYgs1_kc8kN"
      },
      "source": [
        "**TYPE YOUR WRITTEN EXPLANATION HERE.**\n",
        "\n",
        "Blue is by far the most popular color with 19 entries. The next color, green, is next with 9 votes. All the specific colors only have 1 entry--turqoise, dark green, navy, magenta, etc. I had to clean the data by removing extra spaces, slashes and entries with multiple colors. In the case of multiple colors, I only took the first color listed as the survey question asked for \"Your favorite color\", which is singular."
      ]
    },
    {
      "cell_type": "markdown",
      "metadata": {
        "id": "EDUBQeggc8kK"
      },
      "source": [
        "## Question 2\n",
        "\n",
        "Is there a relationship between the number of siblings a student has, and whether or not they live in SLO?\n",
        "\n",
        "Make a visualization to address this question, and discuss the result."
      ]
    },
    {
      "cell_type": "code",
      "execution_count": null,
      "metadata": {
        "colab": {
          "base_uri": "https://localhost:8080/",
          "height": 552
        },
        "id": "TpDoV7rvc8kO",
        "outputId": "38d7c3f8-bb06-41a1-82fe-ee5d83a2517f"
      },
      "outputs": [
        {
          "output_type": "execute_result",
          "data": {
            "text/plain": [
              "<matplotlib.axes._subplots.AxesSubplot at 0x7ff2335e27d0>"
            ]
          },
          "metadata": {},
          "execution_count": 4
        },
        {
          "output_type": "display_data",
          "data": {
            "image/png": "[encoded data removed]",
            "text/plain": [
              "<Figure size 432x288 with 1 Axes>"
            ]
          },
          "metadata": {
            "needs_background": "light"
          }
        },
        {
          "output_type": "display_data",
          "data": {
            "image/png": "[encoded data removed]",
            "text/plain": [
              "<Figure size 432x288 with 1 Axes>"
            ]
          },
          "metadata": {
            "needs_background": "light"
          }
        }
      ],
      "source": [
        "# TYPE YOUR CODE HERE.\n",
        "def inSLO(s):\n",
        "  if \"Off Campus, outside of SLO\" == s:\n",
        "    return \"Off Campus\"\n",
        "  else:\n",
        "    return \"On Campus\"\n",
        "\n",
        "s_inSLO = df_301[\"Where are you living this quarter?\"].map(inSLO)\n",
        "jointed_siblings_living = pd.crosstab(s_inSLO, df_301[\"How many siblings do you have?\"])\n",
        "\n",
        "sum1 = jointed_siblings_living.sum(axis=0)\n",
        "\n",
        "cond1 = jointed_siblings_living.divide(sum1, axis=1)\n",
        "cond1.T.plot.bar(stacked=True)\n",
        "\n",
        "jointed_siblings_living.T.plot.bar()"
      ]
    },
    {
      "cell_type": "markdown",
      "metadata": {
        "id": "xS8tUCb8c8kQ"
      },
      "source": [
        "**TYPE YOUR WRITTEN EXPLANATION HERE.**\n",
        "Before completing this question, I was thinking of the comparison between those living at home or away from home. However for this question, I speculated living with a lot of siblings, you would like to have your own space away from people. You are more likely to have this off campus. As this dataset suggest, the more sublings you have the less likely you will live on campus. It is hard to say with a such a small dataset."
      ]
    },
    {
      "cell_type": "markdown",
      "metadata": {
        "id": "OWml6cxtc8kR"
      },
      "source": [
        "## Question 3\n",
        "\n",
        "You were asked to guess how many golf balls fit into a standard-sized school bus.  This is actually a famous Google interview question!  The best answer I could find online is [here](https://www.quora.com/How-many-golf-balls-can-fit-into-a-school-bus).\n",
        "\n",
        "How did the different subgroups in the class do on this question?  That is, can you find an interesting relationship between the golf ball numbers guess and any of the other variables in this dataset?\n",
        "\n",
        "(_Hint:_ There are many reasonable approaches to this problem. You will get full credit for any reasonable approach, as long as you carefully justify it.)"
      ]
    },
    {
      "cell_type": "code",
      "execution_count": null,
      "metadata": {
        "colab": {
          "base_uri": "https://localhost:8080/",
          "height": 428
        },
        "id": "JTnwnsjZc8kS",
        "outputId": "0d947360-16a4-4fcc-9141-c1e1694586bc"
      },
      "outputs": [
        {
          "output_type": "stream",
          "name": "stdout",
          "text": [
            "Majors vs Golf Balls:\n",
            "MEAN: CS 1362881.869724138 MEDIAN 350000.0\n",
            "MEAN: ST 480221.5333333333 MEDIAN 200000.0\n",
            "MEAN: OT 674596.8571428572 MEDIAN 65000.0\n",
            "\n",
            "Y Videogames MEAN: 874512.2938222223 MEDIAN: 250000.0\n",
            "N Videogames MEAN: 1293707.6923076923 MEDIAN: 200000.0\n"
          ]
        },
        {
          "output_type": "display_data",
          "data": {
            "image/png": "[encoded data removed]",
            "text/plain": [
              "<Figure size 432x288 with 1 Axes>"
            ]
          },
          "metadata": {
            "needs_background": "light"
          }
        }
      ],
      "source": [
        "# TYPE YOUR CODE HERE.\n",
        "# Correct answer ~500,000 golf balls\n",
        "\n",
        "s_balls = df_301['Suppose you wanted to fill an average-sized school bus entirely with golf balls.  How many golf balls do you think you would need?']\n",
        "\n",
        "print(\"Majors vs Golf Balls:\")\n",
        "df_csmajor = df_301[df_301['What is your major?'] == 'Computer Science']\n",
        "cs_balls = df_csmajor['Suppose you wanted to fill an average-sized school bus entirely with golf balls.  How many golf balls do you think you would need?']\n",
        "cs_balls.value_counts().sort_index().plot.bar()\n",
        "\n",
        "df_statmajor = df_301[df_301['What is your major?'] == 'Statistics']\n",
        "stat_balls = df_statmajor['Suppose you wanted to fill an average-sized school bus entirely with golf balls.  How many golf balls do you think you would need?']\n",
        "stat_balls.value_counts().sort_index().plot.bar()\n",
        "\n",
        "df_othermajor = df_301[df_301['What is your major?'] == 'Other']\n",
        "other_balls = df_othermajor['Suppose you wanted to fill an average-sized school bus entirely with golf balls.  How many golf balls do you think you would need?']\n",
        "other_balls.value_counts().sort_index().plot.bar()\n",
        "\n",
        "print(\"MEAN: CS\", cs_balls.mean(), \"MEDIAN\", cs_balls.median())\n",
        "print(\"MEAN: ST\", stat_balls.mean(), \"MEDIAN\", stat_balls.median())\n",
        "print(\"MEAN: OT\", other_balls.mean(), \"MEDIAN\", other_balls.median())\n",
        "\n",
        "# joint_balls_games = pd.crosstab(s_balls, df_301['Do you enjoy video games?'])\n",
        "# sum_games = joint_balls_games.sum(axis=0)\n",
        "\n",
        "df_yes_games = df_301[df_301['Do you enjoy video games?'] == \"Yes\"]\n",
        "yes_balls = df_yes_games['Suppose you wanted to fill an average-sized school bus entirely with golf balls.  How many golf balls do you think you would need?']\n",
        "df_no_games = df_301[df_301['Do you enjoy video games?'] == \"No\"]\n",
        "no_balls = df_no_games['Suppose you wanted to fill an average-sized school bus entirely with golf balls.  How many golf balls do you think you would need?']\n",
        "print(\"\\nY Videogames MEAN:\", yes_balls.mean(), \"MEDIAN:\", yes_balls.median())\n",
        "print(\"N Videogames MEAN:\", no_balls.mean(), \"MEDIAN:\", no_balls.median())\n",
        "\n",
        "\n",
        "\n"
      ]
    },
    {
      "cell_type": "markdown",
      "metadata": {
        "id": "FMb6JbDcc8kU"
      },
      "source": [
        "**TYPE YOUR WRITTEN EXPLANATION HERE.**\n",
        "Majors vs Golf Balls:\n",
        "MEAN: CS 1362881.869724138 MEDIAN 350000.0\n",
        "MEAN: ST 480221.5333333333 MEDIAN 200000.0\n",
        "MEAN: OT 674596.8571428572 MEDIAN 65000.0\n",
        "\n",
        "Y Videogames MEAN: 874512.2938222223 MEDIAN: 250000.0\n",
        "N Videogames MEAN: 1293707.6923076923 MEDIAN: 200000.0\n",
        "\n",
        "When thinking about possible relationships, my mind went to majors and videogames. I chose majors because perhaps those with more math spatial education, aka more mathy majors, would have a better shot. I chose videogames because I have heard those who play are better at visualization and spatial awareness that others. \n",
        "\n",
        "For the majors, STAT majors, on average were the closest while CS majors were way off. I do not know what majors are in OTHER but they were second.\n",
        "\n",
        "For videogames, it makes sense, from my earlier statement, that those who do play videogames would be, on average way closer. Even the median was closer than those who don't."
      ]
    },
    {
      "cell_type": "markdown",
      "metadata": {
        "id": "rlclwdA0pGb0"
      },
      "source": [
        "## Question 4\n",
        "\n",
        "Write and answer your own question using this data set.\n",
        "\n",
        "Is there any relationship between whether a student considers themselves as a sport fan and if they consider themselves as artistic? Please create a visualization of the relationship between the two student attributes."
      ]
    },
    {
      "cell_type": "code",
      "execution_count": null,
      "metadata": {
        "colab": {
          "base_uri": "https://localhost:8080/",
          "height": 302
        },
        "id": "-DGR6Q-QpMls",
        "outputId": "a1097203-73dc-4d09-cf4b-5d007a499b30"
      },
      "outputs": [
        {
          "output_type": "execute_result",
          "data": {
            "text/plain": [
              "<matplotlib.axes._subplots.AxesSubplot at 0x7ff22eaf84d0>"
            ]
          },
          "metadata": {},
          "execution_count": 10
        },
        {
          "output_type": "display_data",
          "data": {
            "image/png": "[encoded data removed]",
            "text/plain": [
              "<Figure size 432x288 with 1 Axes>"
            ]
          },
          "metadata": {
            "needs_background": "light"
          }
        }
      ],
      "source": [
        "ct_sports_art = pd.crosstab(df_301[\"Do you consider yourself a sports fan?\"], df_301[\"Do you consider yourself artistic?\"])\n",
        "ct_sports_art.plot.bar(stacked = True)"
      ]
    },
    {
      "cell_type": "markdown",
      "source": [
        "It seems that a slight majority of the class did not identify as a sport fan, while it also seems that a slight majority also didn't identify as artistic as well. Between the two variables, it seems that a there is slightly greater chance that you do not consider yourself as artistic if you elected to claim that you were a sports fan."
      ],
      "metadata": {
        "id": "mGyGPGR1qDDY"
      }
    },
    {
      "cell_type": "code",
      "execution_count": null,
      "metadata": {
        "id": "OV0mACJabAO2"
      },
      "outputs": [],
      "source": [
        "# Week 1 Challenge - Pretty Data\n",
        "\n",
        "# import pandas as pd\n",
        "# from google.colab import drive\n",
        "# drive.mount('/content/drive')\n",
        "# \n",
        "# df_301 = pd.read_csv(\"/content/drive/My Drive/Colab Notebooks/lab1BResponses.csv\")\n",
        "# import squarify\n",
        "\n",
        "# s_majors = df_301[\"What is your major?\"]\n",
        "# squarify.plot(sizes=s_majors.value_counts().tolist(), label=df_301[\"What is your major?\"], alpha=4)"
      ]
    }
  ],
  "metadata": {
    "colab": {
      "collapsed_sections": [],
      "name": "DATA 301 Lab 1B - Erik Luu",
      "provenance": [],
      "include_colab_link": true
    },
    "kernelspec": {
      "display_name": "Python 3",
      "language": "python",
      "name": "python3"
    },
    "language_info": {
      "codemirror_mode": {
        "name": "ipython",
        "version": 3
      },
      "file_extension": ".py",
      "mimetype": "text/x-python",
      "name": "python",
      "nbconvert_exporter": "python",
      "pygments_lexer": "ipython3",
      "version": "3.6.4"
    }
  },
  "nbformat": 4,
  "nbformat_minor": 0
}